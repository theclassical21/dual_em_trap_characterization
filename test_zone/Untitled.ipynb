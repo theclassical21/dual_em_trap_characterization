{
 "cells": [
  {
   "cell_type": "code",
   "execution_count": 16,
   "id": "august-vietnam",
   "metadata": {},
   "outputs": [],
   "source": [
    "import numpy as np\n",
    "import matplotlib.pyplot as plt\n",
    "import pandas as pd\n",
    "import gvar as gv\n",
    "import lsqfit as lf\n",
    "\n",
    "\n",
    "######################### FUNCTIONAL FORM FOR FITTING #########################\n",
    "## Gaussian function,\n",
    "##    for fitting the profile at any given time.\n",
    "## Adjustable parameters (in order):\n",
    "##    amplitude, width, y-offset, x-offset\n",
    "def gauss_f(x,p):\n",
    "    return p[0]*np.exp( -0.5*((x-p[3])/p[1])**2 ) + p[2]\n",
    "\n",
    "## Doubly decaying function,\n",
    "##    for fitting the time evolution of the fwhm.\n",
    "## Adjustable parameters (in order):\n",
    "##    length scales for 2 decaying and 1 constants,\n",
    "##    time scales for the 2 decays\n",
    "def x_fwhm(t,p):\n",
    "    t = t.astype(float)\n",
    "    return (p[0]*np.exp( -(t)/p[3] ) + p[1]*np.exp( -t/p[4] ) + p[2])*(4*np.log(2))**0.5\n",
    "\n",
    "####################### END FUNCTIONAL FORM FOR FITTING #######################\n",
    "\n",
    "\n",
    "############################### IMPORT PROFILES ###############################\n",
    "## Imports profiles,\n",
    "##    assumes that profiles live in '../data/', relative to the cd.\n",
    "## Inputs a list of times that we want to import data from.\n",
    "## Returns a list,\n",
    "##    each element of which corresponds to the profile at a given time.\n",
    "def gdata_unpack_by_time(times=[1250,1450,190,1990,290,493,690,850,90,990]):\n",
    "    path_to_gdata = '../data/profile_in_E_field_timed.txt'\n",
    "    gdata = pd.read_csv(path_to_gdata,'\\t').drop( ['trash','trash2'] , axis=1)\n",
    "    time_masks = [ gdata['time (ms)'] == time for time in times ]\n",
    "    return [ gdata[mask] for mask in time_masks ]\n",
    "\n",
    "############################# END IMPORT PROFILES #############################\n",
    "\n",
    "################################ GAUSSIAN FITS ################################\n",
    "## First fits a gaussian to a particular profile.\n",
    "## The second runs the previous sections and feeds each profile to the first.\n",
    "\n",
    "## Inputs a list containing, as its elements, the profiles to be fit.\n",
    "## Outputs the fit.\n",
    "def gdata_fit(t_prof,guess=[40,0.46,0.1,0.02]):\n",
    "    signal_stat = [\n",
    "            gv.gvar(\n",
    "                np.array(prf['signal']) , np.array(prf['error'])\n",
    "                ) for prf in t_prof\n",
    "            ]\n",
    "    x_arrays = [ np.array(prf['x_pos(mm)']) for prf in t_prof ]\n",
    "    fits = [ lf.nonlinear_fit(\n",
    "        data=(x_arrays[i],signal_stat[i]),p0=guess, fcn=gauss_f\n",
    "        ) for i in [0,1,2,4,7,8] ]\n",
    "    return fits\n",
    "\n",
    "## Outputs a list of profiles, a list of fit results,\n",
    "##    and a data frame containing the fit parameters from each time\n",
    "def run_g_fits():\n",
    "    t_prof = gdata_unpack_by_time()\n",
    "    fits = gdata_fit(t_prof)\n",
    "    fits_df = pd.DataFrame(\n",
    "                np.array(\n",
    "                    [np.append(fit.p,[fit.Q,fit.chi2/fit.dof]) for fit in fits]\n",
    "                    ), columns=['A','w','y0','xc','Q','red_chi2']\n",
    "                )\n",
    "    fits_df['time'] = [1250,1450,190,290,850,90]\n",
    "    return t_prof, fits, fits_df\n",
    "############################## END GAUSSIAN FITS ##############################\n",
    "\n",
    "#################################### FWHM ####################################\n",
    "## Converts widths to FWHM and produces an errorbar plot.\n",
    "## No line, dot marker, no caps.\n",
    "\n",
    "## Inputs fits_df produced in run_g_fits.\n",
    "## Outputs a data frame with cols of FWHM and time,\n",
    "##    additionally shows a plot of the time evolution of the FWHM w/ error\n",
    "def plot_fwhm(fits_df):\n",
    "    fwhm_vs_t_df=pd.DataFrame(\n",
    "        np.array([2*np.sqrt( np.log(2) )*fits_df['w'] ,fits_df['time']]).T,\n",
    "        columns=['fwhm','time']\n",
    "        )\n",
    "    Y = np.array( [ width.mean for width in fwhm_vs_t_df['fwhm'] ] )\n",
    "    YERR = np.array( [ width.sdev for width in fwhm_vs_t_df['fwhm'] ] )\n",
    "    plt.errorbar(fits_df['time'], Y, yerr=YERR, linestyle='None', marker='.')\n",
    "    return fwhm_vs_t_df\n",
    "################################## END FWHM ###################################\n",
    "\n",
    "################################ EVOLUTION FIT ################################\n",
    "## Fits the time evolution of the x widths.\n",
    "\n",
    "## Inputs fwhm_vs_t_df from FWHM.\n",
    "## Outputs resultant fit.\n",
    "def run_w_fits(df,guess=np.array([0.18,0.08,0.35,70,750]) ):\n",
    "    t,y = np.array(df['time']), np.array(df['fwhm'])\n",
    "    return lf.nonlinear_fit( data=(t,y), p0=guess, fcn=x_fwhm)\n",
    "\n",
    "############################## END EVOLUTION FIT ##############################\n",
    "\n",
    "def do_it_all():\n",
    "    profs, fits, fits_df = run_g_fits()\n",
    "    fwhm_vs_t_df = plot_fwhm(fits_df)\n",
    "    width_fit = run_w_fits(fwhm_vs_t_df)\n",
    "    plt.plot(np.linspace(0,2000,1000),x_fwhm(np.linspace(0,2000,1000), [ P.mean for P in width_fit.p ] ) )\n",
    "    return [ profs, fits, fits_df, fwhm_vs_t_df, width_fit ]\n"
   ]
  },
  {
   "cell_type": "code",
   "execution_count": 17,
   "id": "textile-winter",
   "metadata": {},
   "outputs": [
    {
     "name": "stdout",
     "output_type": "stream",
     "text": [
      "Least Square Fit (no prior):\n",
      "  chi2/dof [dof] = 1.8 [1]    Q = 0.18    \n",
      "\n",
      "Parameters:\n",
      "              0    3e+01 +- 1.3e+07        [ 0.18 +- inf ]  \n",
      "              1   -3e+01 +- 1.3e+07        [ 0.08 +- inf ]  \n",
      "              2          0.300 (19)        [ 0.35 +- inf ]  \n",
      "              3        244 (183264)        [   70 +- inf ]  \n",
      "              4        245 (185465)        [  750 +- inf ]  \n",
      "\n",
      "Settings:\n",
      "  svdcut/n = 1e-12/0    tol = (1e-08,1e-10,1e-10)    (itns/time = 1000*/0.3)\n",
      "  fitter = scipy_least_squares    method = trf\n",
      "\n"
     ]
    },
    {
     "data": {
      "image/png": "[encoded data removed]",
      "text/plain": [
       "<Figure size 432x288 with 1 Axes>"
      ]
     },
     "metadata": {
      "needs_background": "light"
     },
     "output_type": "display_data"
    }
   ],
   "source": [
    "A = do_it_all()\n",
    "print(A[-1])"
   ]
  },
  {
   "cell_type": "code",
   "execution_count": 5,
   "id": "valued-effects",
   "metadata": {},
   "outputs": [
    {
     "name": "stdout",
     "output_type": "stream",
     "text": [
      "        fwhm  time\n",
      "0  0.855(30)  1250\n",
      "1  0.811(24)  1450\n",
      "2  1.082(12)   190\n",
      "3  0.722(32)  1990\n",
      "4  0.951(16)   290\n",
      "5  0.944(16)   690\n",
      "6  0.825(18)   850\n",
      "7  1.282(23)    90\n",
      "8  0.697(17)   990\n"
     ]
    }
   ],
   "source": [
    "print(A[-2])"
   ]
  },
  {
   "cell_type": "code",
   "execution_count": null,
   "id": "extended-apparatus",
   "metadata": {},
   "outputs": [],
   "source": []
  }
 ],
 "metadata": {
  "kernelspec": {
   "display_name": "Python 3",
   "language": "python",
   "name": "python3"
  },
  "language_info": {
   "codemirror_mode": {
    "name": "ipython",
    "version": 3
   },
   "file_extension": ".py",
   "mimetype": "text/x-python",
   "name": "python",
   "nbconvert_exporter": "python",
   "pygments_lexer": "ipython3",
   "version": "3.9.2"
  }
 },
 "nbformat": 4,
 "nbformat_minor": 5
}
