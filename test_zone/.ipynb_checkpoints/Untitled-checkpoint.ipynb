{
 "cells": [
  {
   "cell_type": "code",
   "execution_count": 13,
   "id": "august-vietnam",
   "metadata": {},
   "outputs": [
    {
     "name": "stdout",
     "output_type": "stream",
     "text": [
      "   time (ms)  width (cm)  unc (cm)\n",
      "2      250.0    0.431785  0.013414\n"
     ]
    }
   ],
   "source": [
    "import pandas as pd\n",
    "import matplotlib.pyplot as plt\n",
    "import numpy as np\n",
    "import gvar as gv\n",
    "\n",
    "plt.rcParams[\"figure.figsize\"] = (40,40)\n",
    "f = pd.read_csv('../data/widthsVtime_8kV.txt','\\t')\n",
    "B = pd.DataFrame(f).copy()\n",
    "print(B[2:3])"
   ]
  },
  {
   "cell_type": "markdown",
   "id": "exact-powell",
   "metadata": {},
   "source": []
  }
 ],
 "metadata": {
  "kernelspec": {
   "display_name": "Python 3",
   "language": "python",
   "name": "python3"
  },
  "language_info": {
   "codemirror_mode": {
    "name": "ipython",
    "version": 3
   },
   "file_extension": ".py",
   "mimetype": "text/x-python",
   "name": "python",
   "nbconvert_exporter": "python",
   "pygments_lexer": "ipython3",
   "version": "3.8.6"
  }
 },
 "nbformat": 4,
 "nbformat_minor": 5
}
